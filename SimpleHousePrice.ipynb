{
  "nbformat": 4,
  "nbformat_minor": 0,
  "metadata": {
    "colab": {
      "provenance": []
    },
    "kernelspec": {
      "name": "python3",
      "display_name": "Python 3"
    },
    "language_info": {
      "name": "python"
    }
  },
  "cells": [
    {
      "cell_type": "code",
      "execution_count": 2,
      "metadata": {
        "colab": {
          "base_uri": "https://localhost:8080/"
        },
        "id": "ivfG_o0zrBgK",
        "outputId": "e22134fd-7026-4567-ba87-b53e4377be32"
      },
      "outputs": [
        {
          "output_type": "stream",
          "name": "stdout",
          "text": [
            "Requirement already satisfied: pandas in /usr/local/lib/python3.10/dist-packages (2.2.2)\n",
            "Requirement already satisfied: numpy in /usr/local/lib/python3.10/dist-packages (1.26.4)\n",
            "Requirement already satisfied: catboost in /usr/local/lib/python3.10/dist-packages (1.2.7)\n",
            "Requirement already satisfied: openpyxl in /usr/local/lib/python3.10/dist-packages (3.1.5)\n",
            "Requirement already satisfied: python-dateutil>=2.8.2 in /usr/local/lib/python3.10/dist-packages (from pandas) (2.8.2)\n",
            "Requirement already satisfied: pytz>=2020.1 in /usr/local/lib/python3.10/dist-packages (from pandas) (2024.2)\n",
            "Requirement already satisfied: tzdata>=2022.7 in /usr/local/lib/python3.10/dist-packages (from pandas) (2024.2)\n",
            "Requirement already satisfied: graphviz in /usr/local/lib/python3.10/dist-packages (from catboost) (0.20.3)\n",
            "Requirement already satisfied: matplotlib in /usr/local/lib/python3.10/dist-packages (from catboost) (3.7.1)\n",
            "Requirement already satisfied: scipy in /usr/local/lib/python3.10/dist-packages (from catboost) (1.13.1)\n",
            "Requirement already satisfied: plotly in /usr/local/lib/python3.10/dist-packages (from catboost) (5.24.1)\n",
            "Requirement already satisfied: six in /usr/local/lib/python3.10/dist-packages (from catboost) (1.16.0)\n",
            "Requirement already satisfied: et-xmlfile in /usr/local/lib/python3.10/dist-packages (from openpyxl) (1.1.0)\n",
            "Requirement already satisfied: contourpy>=1.0.1 in /usr/local/lib/python3.10/dist-packages (from matplotlib->catboost) (1.3.0)\n",
            "Requirement already satisfied: cycler>=0.10 in /usr/local/lib/python3.10/dist-packages (from matplotlib->catboost) (0.12.1)\n",
            "Requirement already satisfied: fonttools>=4.22.0 in /usr/local/lib/python3.10/dist-packages (from matplotlib->catboost) (4.54.1)\n",
            "Requirement already satisfied: kiwisolver>=1.0.1 in /usr/local/lib/python3.10/dist-packages (from matplotlib->catboost) (1.4.7)\n",
            "Requirement already satisfied: packaging>=20.0 in /usr/local/lib/python3.10/dist-packages (from matplotlib->catboost) (24.1)\n",
            "Requirement already satisfied: pillow>=6.2.0 in /usr/local/lib/python3.10/dist-packages (from matplotlib->catboost) (10.4.0)\n",
            "Requirement already satisfied: pyparsing>=2.3.1 in /usr/local/lib/python3.10/dist-packages (from matplotlib->catboost) (3.2.0)\n",
            "Requirement already satisfied: tenacity>=6.2.0 in /usr/local/lib/python3.10/dist-packages (from plotly->catboost) (9.0.0)\n",
            "Mounted at /content/drive\n"
          ]
        }
      ],
      "source": [
        "!pip install pandas numpy catboost openpyxl\n",
        "from google.colab import drive\n",
        "drive.mount('/content/drive')"
      ]
    },
    {
      "cell_type": "code",
      "source": [
        "import pandas as pd\n",
        "import numpy as np\n",
        "\n",
        "# 設定文件路徑\n",
        "train_path = '/content/drive/MyDrive/Kaggle/simple/test-reindex-test_3.xlsx'\n",
        "\n",
        "# 讀取資料\n",
        "train = pd.read_excel(train_path)"
      ],
      "metadata": {
        "id": "uyjjGyutrF_p"
      },
      "execution_count": 42,
      "outputs": []
    },
    {
      "cell_type": "code",
      "source": [
        "# 1. 取得單價元平方公尺的中位數\n",
        "median_price_per_sqm = train['單價元平方公尺'].median()\n",
        "print(f\"單價元平方公尺中位數: {median_price_per_sqm}\")\n",
        "\n",
        "# 2. 如果單價元平方公尺 = 空值 且 建物型態 = 工廠，令單價元平方公尺 = 單價元平方公尺中位數\n",
        "train.loc[(train['單價元平方公尺'].isnull()) & (train['建物型態'] == '工廠'), '單價元平方公尺'] = median_price_per_sqm\n",
        "\n",
        "# 3. 如果單價元平方公尺 = 0，令單價元平方公尺 = 單價元平方公尺中位數\n",
        "train.loc[train['單價元平方公尺'] == 0, '單價元平方公尺'] = median_price_per_sqm\n",
        "\n",
        "# 4. 如果單價元平方公尺為空值，統一填補為 0\n",
        "train['單價元平方公尺'].fillna(0, inplace=True)\n",
        "\n",
        "# 5. 計算總價元的邏輯\n",
        "def calculate_total_price(row):\n",
        "    # 如果車位移轉總面積平方公尺=0 且 車位總價元!=0\n",
        "    if row['車位移轉總面積平方公尺'] == 0 and row['車位總價元'] != 0:\n",
        "        return row['建物移轉總面積平方公尺'] * row['單價元平方公尺']\n",
        "\n",
        "    # 如果車位移轉總面積平方公尺!=0 且 車位總價元=0\n",
        "    elif row['車位移轉總面積平方公尺'] != 0 and row['車位總價元'] == 0:\n",
        "        return row['建物移轉總面積平方公尺'] * row['單價元平方公尺'] + row['車位總價元']\n",
        "\n",
        "    # 否則，計算公式為：(建物移轉總面積平方公尺 - 車位移轉總面積平方公尺) * 單價元平方公尺 + 車位總價元\n",
        "    else:\n",
        "        return (row['建物移轉總面積平方公尺'] - row['車位移轉總面積平方公尺']) * row['單價元平方公尺'] + row['車位總價元']\n",
        "\n",
        "# 進行總價元計算\n",
        "train['總價元'] = train.apply(calculate_total_price, axis=1)\n",
        "\n",
        "# 將總價元取到最接近的萬位數（四捨五入）\n",
        "train['總價元'] = train['總價元'].apply(lambda x: round(x, -4))\n",
        "\n",
        "# 生成submission\n",
        "submission = train[['編號', '總價元']]\n",
        "submission_path = '/content/drive/MyDrive/Kaggle/simple/submission_10.csv'\n",
        "submission.to_csv(submission_path, index=False, encoding='utf-8-sig')\n",
        "\n",
        "print(f\"Submission saved to {submission_path}\")\n"
      ],
      "metadata": {
        "colab": {
          "base_uri": "https://localhost:8080/"
        },
        "id": "k9AkBU_2AL-u",
        "outputId": "e0dd191a-12f6-45cb-9953-4b493cf0a032"
      },
      "execution_count": 43,
      "outputs": [
        {
          "output_type": "stream",
          "name": "stdout",
          "text": [
            "單價元平方公尺中位數: 99833.0\n"
          ]
        },
        {
          "output_type": "stream",
          "name": "stderr",
          "text": [
            "<ipython-input-43-6eb5baf95b64>:12: FutureWarning: A value is trying to be set on a copy of a DataFrame or Series through chained assignment using an inplace method.\n",
            "The behavior will change in pandas 3.0. This inplace method will never work because the intermediate object on which we are setting values always behaves as a copy.\n",
            "\n",
            "For example, when doing 'df[col].method(value, inplace=True)', try using 'df.method({col: value}, inplace=True)' or df[col] = df[col].method(value) instead, to perform the operation inplace on the original object.\n",
            "\n",
            "\n",
            "  train['單價元平方公尺'].fillna(0, inplace=True)\n"
          ]
        },
        {
          "output_type": "stream",
          "name": "stdout",
          "text": [
            "Submission saved to /content/drive/MyDrive/Kaggle/simple/submission_10.csv\n"
          ]
        }
      ]
    }
  ]
}