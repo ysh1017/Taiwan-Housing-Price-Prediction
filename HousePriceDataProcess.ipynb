{
  "nbformat": 4,
  "nbformat_minor": 0,
  "metadata": {
    "colab": {
      "provenance": []
    },
    "kernelspec": {
      "name": "python3",
      "display_name": "Python 3"
    },
    "language_info": {
      "name": "python"
    }
  },
  "cells": [
    {
      "cell_type": "code",
      "source": [
        "!pip install pandas numpy catboost openpyxl\n"
      ],
      "metadata": {
        "colab": {
          "base_uri": "https://localhost:8080/"
        },
        "id": "4johpAV2n5gG",
        "outputId": "3d60fd49-00f1-4dad-8b06-4cafd548ab5b"
      },
      "execution_count": 2,
      "outputs": [
        {
          "output_type": "stream",
          "name": "stdout",
          "text": [
            "Requirement already satisfied: pandas in /usr/local/lib/python3.10/dist-packages (2.2.2)\n",
            "Requirement already satisfied: numpy in /usr/local/lib/python3.10/dist-packages (1.26.4)\n",
            "Collecting catboost\n",
            "  Downloading catboost-1.2.7-cp310-cp310-manylinux2014_x86_64.whl.metadata (1.2 kB)\n",
            "Requirement already satisfied: openpyxl in /usr/local/lib/python3.10/dist-packages (3.1.5)\n",
            "Requirement already satisfied: python-dateutil>=2.8.2 in /usr/local/lib/python3.10/dist-packages (from pandas) (2.8.2)\n",
            "Requirement already satisfied: pytz>=2020.1 in /usr/local/lib/python3.10/dist-packages (from pandas) (2024.2)\n",
            "Requirement already satisfied: tzdata>=2022.7 in /usr/local/lib/python3.10/dist-packages (from pandas) (2024.2)\n",
            "Requirement already satisfied: graphviz in /usr/local/lib/python3.10/dist-packages (from catboost) (0.20.3)\n",
            "Requirement already satisfied: matplotlib in /usr/local/lib/python3.10/dist-packages (from catboost) (3.7.1)\n",
            "Requirement already satisfied: scipy in /usr/local/lib/python3.10/dist-packages (from catboost) (1.13.1)\n",
            "Requirement already satisfied: plotly in /usr/local/lib/python3.10/dist-packages (from catboost) (5.24.1)\n",
            "Requirement already satisfied: six in /usr/local/lib/python3.10/dist-packages (from catboost) (1.16.0)\n",
            "Requirement already satisfied: et-xmlfile in /usr/local/lib/python3.10/dist-packages (from openpyxl) (1.1.0)\n",
            "Requirement already satisfied: contourpy>=1.0.1 in /usr/local/lib/python3.10/dist-packages (from matplotlib->catboost) (1.3.0)\n",
            "Requirement already satisfied: cycler>=0.10 in /usr/local/lib/python3.10/dist-packages (from matplotlib->catboost) (0.12.1)\n",
            "Requirement already satisfied: fonttools>=4.22.0 in /usr/local/lib/python3.10/dist-packages (from matplotlib->catboost) (4.54.1)\n",
            "Requirement already satisfied: kiwisolver>=1.0.1 in /usr/local/lib/python3.10/dist-packages (from matplotlib->catboost) (1.4.7)\n",
            "Requirement already satisfied: packaging>=20.0 in /usr/local/lib/python3.10/dist-packages (from matplotlib->catboost) (24.1)\n",
            "Requirement already satisfied: pillow>=6.2.0 in /usr/local/lib/python3.10/dist-packages (from matplotlib->catboost) (10.4.0)\n",
            "Requirement already satisfied: pyparsing>=2.3.1 in /usr/local/lib/python3.10/dist-packages (from matplotlib->catboost) (3.1.4)\n",
            "Requirement already satisfied: tenacity>=6.2.0 in /usr/local/lib/python3.10/dist-packages (from plotly->catboost) (9.0.0)\n",
            "Downloading catboost-1.2.7-cp310-cp310-manylinux2014_x86_64.whl (98.7 MB)\n",
            "\u001b[2K   \u001b[90m━━━━━━━━━━━━━━━━━━━━━━━━━━━━━━━━━━━━━━━━\u001b[0m \u001b[32m98.7/98.7 MB\u001b[0m \u001b[31m9.1 MB/s\u001b[0m eta \u001b[36m0:00:00\u001b[0m\n",
            "\u001b[?25hInstalling collected packages: catboost\n",
            "Successfully installed catboost-1.2.7\n"
          ]
        }
      ]
    },
    {
      "cell_type": "code",
      "execution_count": 1,
      "metadata": {
        "colab": {
          "base_uri": "https://localhost:8080/"
        },
        "id": "KkQcwNwenWO4",
        "outputId": "c1c7bc37-f858-4ef7-b88c-5bd0d255e3b4"
      },
      "outputs": [
        {
          "output_type": "stream",
          "name": "stdout",
          "text": [
            "Mounted at /content/drive\n",
            "Mounted at /content/drive\n"
          ]
        }
      ],
      "source": [
        "from google.colab import drive\n",
        "drive.mount('/content/drive')\n"
      ]
    },
    {
      "cell_type": "code",
      "source": [
        "import pandas as pd\n",
        "\n",
        "# 設定文件路徑\n",
        "train_path = '/content/drive/MyDrive/Kaggle/data/train_使用經緯度.xlsx'\n",
        "test_path = '/content/drive/MyDrive/Kaggle/data/test-reindex-test.xlsx'\n",
        "valid_path = '/content/drive/MyDrive/Kaggle/data/valid.xlsx'\n",
        "\n",
        "# 讀取資料\n",
        "train = pd.read_excel(train_path)\n",
        "test = pd.read_excel(test_path)\n",
        "valid = pd.read_excel(valid_path)\n"
      ],
      "metadata": {
        "id": "zTqlrbHTn89j"
      },
      "execution_count": 3,
      "outputs": []
    },
    {
      "cell_type": "code",
      "source": [
        "from datetime import datetime\n",
        "\n",
        "def convert_to_ad(year_str):\n",
        "    \"\"\" 將民國年轉為西元年 \"\"\"\n",
        "    if len(year_str) == 7:  # 民國年格式YYYMMDD\n",
        "        year = int(year_str[:3]) + 1911\n",
        "        return f\"{year}-{year_str[3:5]}-{year_str[5:]}\"\n",
        "    elif len(year_str) == 6:  # 民國年格式YYMMDD\n",
        "        year = int(year_str[:2]) + 1911\n",
        "        return f\"{year}-{year_str[2:4]}-{year_str[4:]}\"\n",
        "    else:\n",
        "        return None\n",
        "\n",
        "def preprocess_dates(df):\n",
        "    df['交易年月日'] = df['交易年月日'].astype(str).apply(convert_to_ad)\n",
        "    df['交易年月日'] = pd.to_datetime(df['交易年月日'], format=\"%Y-%m-%d\")\n",
        "    return df\n",
        "\n",
        "# 處理日期\n",
        "train = preprocess_dates(train)\n",
        "test = preprocess_dates(test)\n",
        "valid = preprocess_dates(valid)\n"
      ],
      "metadata": {
        "id": "5USOnXqIoNS9"
      },
      "execution_count": 4,
      "outputs": []
    },
    {
      "cell_type": "code",
      "source": [
        "from sklearn.preprocessing import LabelEncoder\n",
        "\n",
        "def encode_categorical_columns(df, categorical_columns):\n",
        "    for col in categorical_columns:\n",
        "        df[col] = df[col].fillna('Unknown')  # 填補缺失值\n",
        "        le = LabelEncoder()\n",
        "        df[col] = le.fit_transform(df[col])\n",
        "    return df\n",
        "\n",
        "# 要進行編碼的類別特徵\n",
        "categorical_columns = ['鄉鎮市區', '交易標的', '縣市', '縣市鄉鎮市區', '都市土地使用分區',\n",
        "                       '非都市土地使用分區', '非都市土地使用編定', '移轉層次',\n",
        "                       '建物型態', '主要用途', '主要建材', '建物現況格局-隔間', '車位類別']\n",
        "\n",
        "# 編碼資料\n",
        "train = encode_categorical_columns(train, categorical_columns)\n",
        "test = encode_categorical_columns(test, categorical_columns)\n",
        "valid = encode_categorical_columns(valid, categorical_columns)\n"
      ],
      "metadata": {
        "id": "LfB8YZk1oYnF"
      },
      "execution_count": 5,
      "outputs": []
    },
    {
      "cell_type": "code",
      "source": [
        "output_train_path = '/content/drive/MyDrive/Kaggle/output/processed_train.csv'\n",
        "output_test_path = '/content/drive/MyDrive/Kaggle/output/processed_test.csv'\n",
        "output_valid_path = '/content/drive/MyDrive/Kaggle/output/processed_valid.csv'\n",
        "\n",
        "# 將處理後的資料儲存為 CSV 檔案\n",
        "train.to_csv(output_train_path, index=False)\n",
        "test.to_csv(output_test_path, index=False)\n",
        "valid.to_csv(output_valid_path, index=False)\n",
        "\n",
        "print(\"資料預處理完成，已儲存到 Google Drive。\")\n"
      ],
      "metadata": {
        "colab": {
          "base_uri": "https://localhost:8080/"
        },
        "id": "KkCzhpHrobLB",
        "outputId": "d509c5a8-5c65-433f-b9e4-1c71b110b1fd"
      },
      "execution_count": 7,
      "outputs": [
        {
          "output_type": "stream",
          "name": "stdout",
          "text": [
            "資料預處理完成，已儲存到 Google Drive。\n"
          ]
        }
      ]
    }
  ]
}